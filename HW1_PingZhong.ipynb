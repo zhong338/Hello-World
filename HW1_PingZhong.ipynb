{
 "cells": [
  {
   "cell_type": "markdown",
   "metadata": {},
   "source": [
    "# FM5121  Homework 1\n",
    "### Due:  September 15, Midnight.  \n",
    "### Ping Zhong zhong338@umn.edu "
   ]
  },
  {
   "cell_type": "markdown",
   "metadata": {},
   "source": [
    "### Solve the linear system of equations by \"equation operations\" and back-substitution. Show steps.\n",
    "\n",
    "\n",
    "1.  $$\\begin{eqnarray*} \n",
    "10x - y &=& 8\\\\\n",
    "x  + y &=& 3\n",
    "\\end{eqnarray*}$$\n",
    "\n",
    "\n",
    "\n",
    "\n",
    "\n"
   ]
  },
  {
   "cell_type": "markdown",
   "metadata": {},
   "source": [
    "$$\\begin{eqnarray*}  \n",
    "10x - 8 = y\\\\\n",
    "x  + 10x -8 = 3 \\\\\n",
    "11x = 11, x = 1 \\\\ \n",
    "y = 10x - 8 = 2  \n",
    "\\end{eqnarray*}$$"
   ]
  },
  {
   "cell_type": "markdown",
   "metadata": {},
   "source": [
    "2. \n",
    "$$\\begin{eqnarray*} \n",
    "x_1 - x_2 + 4x_3 &=& -3\\\\\n",
    "3x_1 + x_2 -x_3 &=& 8\\\\\n",
    "x_1 + x_2 + x_3 &=& 2  \n",
    "\\end{eqnarray*}$$"
   ]
  },
  {
   "cell_type": "markdown",
   "metadata": {},
   "source": [
    "$$\\begin{eqnarray*}  \n",
    "① +③: 2x_1 +5x_3 = -1\\\\\n",
    " ① +②: 4x_1 +3x_3 = 5\\\\\n",
    "4x_1 +3x_3 - 2(2x_1 +5x_3)= 5 -2(-1)= 7\\\\ \n",
    "-7x_3 = 7, x_3 = -1\\\\\n",
    "4x_1 +3x_3 = 4x_1 +3(-1) = 5, x_1 = 2\\\\\n",
    "x_1 -x_2 +4x_3 = 2 - x_2 +4(-1) = -3, x_2=1\\\\\n",
    "\\end{eqnarray*}$$"
   ]
  },
  {
   "cell_type": "markdown",
   "metadata": {},
   "source": [
    "3.  \n",
    "$$\\begin{eqnarray*} \n",
    "x + y  -z &=& 6\\\\\n",
    "x +2y + z &=& 0\n",
    "\\end{eqnarray*}$$"
   ]
  },
  {
   "cell_type": "markdown",
   "metadata": {},
   "source": [
    "$$\\begin{eqnarray*}\n",
    "x+y = 6+z ...①\\\\\n",
    "x+2y = -z ...②\\\\\n",
    "② - ①: y = -z -6 -z = -6-2z \\\\\n",
    "x-6-2z = 6 +z \\\\\n",
    "x = 12+3z\n",
    "\\end{eqnarray*} $$ for any z ∈ R\n",
    "\n",
    "That is to say, there are infinitely many solutions."
   ]
  },
  {
   "cell_type": "markdown",
   "metadata": {},
   "source": [
    "### Vector independence and matrix rank \n",
    "\n",
    "4. Determine if the columns of the matrix $A = \\begin{pmatrix}\n",
    "0 & 1& 5 \\\\\n",
    "1 & 2 & -1\\\\\n",
    "5 & 8 & 0\\\\\n",
    "\\end{pmatrix}$ are linear independent.  Calculate the rank of the matrix $A$."
   ]
  },
  {
   "cell_type": "markdown",
   "metadata": {},
   "source": [
    "Let $v_j$ to represent the $j-th$ column vector, we want to check if the column vector $v_j$ are linearly independent. \n",
    "$$ \n",
    "c_1 V_1 + c_2 V_2 + c_3 V_3 = c_1 \\begin{pmatrix}\n",
    "0 \\\\\n",
    "1 \\\\\n",
    "5 \\\\\n",
    "\\end{pmatrix} \n",
    "+ c_2 \\begin{pmatrix}\n",
    "1 \\\\\n",
    "2 \\\\\n",
    "8 \\\\\n",
    "\\end{pmatrix}\n",
    "+ c_3 \\begin{pmatrix}\n",
    "5 \\\\\n",
    "-1 \\\\\n",
    "0 \\\\\n",
    "\\end{pmatrix}\n",
    "= 0 \\\\\n",
    "c_2 +5c_3 = 0 \\\\\n",
    "c_1 +2c_2 -c_3 = 0\\\\\n",
    "5c_1 +8c_2 = 0\\\\\n",
    "c_1 =c_2=c_3 = 0\n",
    "$$\n",
    "Thurs the columns of the matrix A are linearly independent, and Rank(A) = 3. "
   ]
  },
  {
   "cell_type": "markdown",
   "metadata": {},
   "source": [
    "### Matrix multiplication\n",
    "\n",
    "5. Let $A = \\begin{pmatrix}\n",
    "1 & 2\\\\\n",
    "5 & 4\\\\\n",
    "2 & 3\\\\\n",
    "\\end{pmatrix}$, $B = \\begin{pmatrix}\n",
    "3 & -2 \\\\\n",
    "-2 & 1 \\\\\n",
    "\\end{pmatrix}$, calculate $AB$.  What can you say about $BA$?"
   ]
  },
  {
   "cell_type": "markdown",
   "metadata": {},
   "source": [
    "$$AB = \\begin{pmatrix}\n",
    "1 & 2\\\\\n",
    "5 & 4\\\\\n",
    "2 & 3\\\\\n",
    "\\end{pmatrix} \\begin{pmatrix}\n",
    "3 & -2 \\\\\n",
    "-2 & 1 \\\\\n",
    "\\end{pmatrix} = \\begin{pmatrix}\n",
    "3-4 & -2+2\\\\\n",
    "15-8 & -10+4\\\\\n",
    "6-6 & -4+3\\\\\n",
    "\\end{pmatrix} = \\begin{pmatrix}\n",
    "-1 & 0\\\\\n",
    "7 & -6\\\\\n",
    "0 & -1\\\\\n",
    "\\end{pmatrix}\n",
    "$$\n",
    "\n",
    "AB ≠ BA, can't caculate BA since 2x2 matrix can't multiply 3x2 matrix. "
   ]
  },
  {
   "cell_type": "markdown",
   "metadata": {},
   "source": [
    "6. Let $A = \\begin{pmatrix}\n",
    "2 & 5\\\\\n",
    "-3 & 1\\\\\n",
    "\\end{pmatrix}$, $B = \\begin{pmatrix}\n",
    "4 & -5 \\\\\n",
    "3 & k \\\\\n",
    "\\end{pmatrix}$, What value(s) of $k$ will make $AB = BA$"
   ]
  },
  {
   "cell_type": "markdown",
   "metadata": {},
   "source": [
    "$AB = \\begin{pmatrix}\n",
    "2 & 5\\\\\n",
    "-3 & 1\\\\\n",
    "\\end{pmatrix}$ $\\begin{pmatrix}\n",
    "4 & -5 \\\\\n",
    "3 & k \\\\\n",
    "\\end{pmatrix}$ = $\\begin{pmatrix}\n",
    "23 & -10 +5k \\\\\n",
    "-9 & 15+k \\\\\n",
    "\\end{pmatrix}$\n",
    "\n",
    "$BA = \\begin{pmatrix}\n",
    "4 & -5 \\\\\n",
    "3 & k \\\\\n",
    "\\end{pmatrix} \\begin{pmatrix}\n",
    "2 & 5\\\\\n",
    "-3 & 1\\\\\n",
    "\\end{pmatrix} = \\begin{pmatrix}\n",
    "23 & 15\\\\\n",
    "6-3k & 15+k\\\\\n",
    "\\end{pmatrix}$\n",
    "\n",
    "$\\begin{pmatrix}\n",
    "23 & -10 +5k \\\\\n",
    "-9 & 15+k \\\\\n",
    "\\end{pmatrix} = \\begin{pmatrix}\n",
    "23 & 15\\\\\n",
    "6-3k & 15+k\\\\ \n",
    "\\end{pmatrix}$\n",
    "$$ k=5 $$"
   ]
  },
  {
   "cell_type": "markdown",
   "metadata": {},
   "source": [
    "### Matrix Inversion\n",
    "\n",
    "7. Use determinants to determine which of the following matrices are invertible.\n",
    "\n",
    "$A = \\begin{pmatrix}\n",
    "3 & -9\\\\\n",
    "2 & 6\\\\\n",
    "\\end{pmatrix}$, \n",
    "$B = \\begin{pmatrix}\n",
    "4 & -9 \\\\\n",
    "0 & 5 \\\\\n",
    "\\end{pmatrix}$\n",
    "$C = \\begin{pmatrix}\n",
    "6 & -9 \\\\\n",
    "-4 & 6 \\\\\n",
    "\\end{pmatrix}$"
   ]
  },
  {
   "cell_type": "markdown",
   "metadata": {},
   "source": [
    "$$\n",
    "det(A) = 18 -2(-9) = 36\\\\\n",
    "det(B) = 20 -0 = 20\\\\\n",
    "det(C) = 36-36 = 0 \n",
    "$$\n",
    "Thus, A and B is invertible, and C is not invertible. "
   ]
  },
  {
   "cell_type": "markdown",
   "metadata": {},
   "source": [
    "8. Manually find the inverse of the matrix $A= \\begin{pmatrix}\n",
    "1 & -2 & -1\\\\\n",
    "-1 & 5 & 6\\\\\n",
    "5 & -4 & 5\\\\\n",
    "\\end{pmatrix}$\n",
    ", if it exists. \n"
   ]
  },
  {
   "cell_type": "markdown",
   "metadata": {},
   "source": [
    "$$[AI]= \\begin{pmatrix}\n",
    "1 & -2 & -1 & 1 & 0 & 0\\\\\n",
    "-1 & 5 & 6 & 0 & 1 & 0\\\\\n",
    "5 & -4 & 5 & 0 & 0 & 1\\\\\n",
    "\\end{pmatrix} = \\begin{pmatrix}\n",
    "0 & 3 & 5 & 1 & 1 & 0\\\\\n",
    "-1 & 5 & 6 & 0 & 1 & 0\\\\\n",
    "5 & -4 & 5 & 0 & 0 & 1\\\\\n",
    "\\end{pmatrix} = \\begin{pmatrix}\n",
    "0 & 3 & 5 & 1 & 1 & 0\\\\\n",
    "-1 & 5 & 6 & 0 & 1 & 0\\\\\n",
    "5 & -7 & 0 & -1 & -1 & 1\\\\\n",
    "\\end{pmatrix} = \\begin{pmatrix}\n",
    "0 & 18 & 30 & 6 & 6 & 0\\\\\n",
    "-5 & 25 & 30 & 0 & 5 & 0\\\\\n",
    "5 & -7 & 0 & -1 & -1 & 1\\\\\n",
    "\\end{pmatrix} = \\begin{pmatrix}\n",
    "0 & 3 & 5 & 1 & 1 & 0\\\\\n",
    "-5 & 7 & 0 & -6 & -1 & 0\\\\\n",
    "5 & -7 & 0 & -1 & -1 & 1\\\\\n",
    "\\end{pmatrix} = \\begin{pmatrix}\n",
    "0 & 3 & 5 & 1 & 1 & 0\\\\\n",
    "-5 & 7 & 0 & -6 & -1 & 0\\\\\n",
    "0 & 0 & 0 & -7 & -2 & 1\\\\\n",
    "\\end{pmatrix}\n",
    "$$\n",
    "Since it's unable to find $[AI]$, the inverse of the matrix $A$ doesn't exisit. "
   ]
  },
  {
   "cell_type": "markdown",
   "metadata": {},
   "source": [
    "Write Python code to verify your results."
   ]
  },
  {
   "cell_type": "code",
   "execution_count": 13,
   "metadata": {},
   "outputs": [],
   "source": [
    "import numpy as np\n",
    "import scipy.linalg as la"
   ]
  },
  {
   "cell_type": "code",
   "execution_count": 23,
   "metadata": {},
   "outputs": [],
   "source": [
    "import sympy\n",
    "from sympy import symbols, Eq, solve "
   ]
  },
  {
   "cell_type": "code",
   "execution_count": 26,
   "metadata": {},
   "outputs": [
    {
     "name": "stdout",
     "output_type": "stream",
     "text": [
      "x=1\n",
      "y=2\n"
     ]
    }
   ],
   "source": [
    "### 1. ---------------------------------------\n",
    "x,y = symbols('x y')\n",
    "eq1 = Eq(10*x -y ,8)\n",
    "eq2 = Eq(x +y , 3)\n",
    "sol_dict = solve((eq1,eq2),(x,y))\n",
    "print(f'x={sol_dict[x]}')\n",
    "print(f'y={sol_dict[y]}')"
   ]
  },
  {
   "cell_type": "code",
   "execution_count": 27,
   "metadata": {},
   "outputs": [
    {
     "name": "stdout",
     "output_type": "stream",
     "text": [
      "x1=2\n",
      "x2=1\n",
      "x3=-1\n"
     ]
    }
   ],
   "source": [
    "### 2. ---------------------------------------\n",
    "x1,x2,x3 = symbols('x1 x2 x3')\n",
    "eq1 = Eq(x1 -x2 +4*x3 ,-3)\n",
    "eq2 = Eq(3*x1 +x2 -x3 ,8)\n",
    "eq3 = Eq(x1 +x2 +x3 ,2)\n",
    "sol_dict = solve((eq1,eq2,eq3),(x1,x2,x3))\n",
    "print(f'x1={sol_dict[x1]}')\n",
    "print(f'x2={sol_dict[x2]}')\n",
    "print(f'x3={sol_dict[x3]}')"
   ]
  },
  {
   "cell_type": "code",
   "execution_count": 30,
   "metadata": {},
   "outputs": [
    {
     "name": "stdout",
     "output_type": "stream",
     "text": [
      "x=3*z + 12\n",
      "y=-2*z - 6\n"
     ]
    }
   ],
   "source": [
    "### 3. ---------------------------------------\n",
    "x,y,z = symbols('x y z')\n",
    "eq1 = Eq(x +y -z ,6)\n",
    "eq2 = Eq(x +2*y +z, 0)\n",
    "sol_dict = solve((eq1,eq2),(x,y,z))\n",
    "print(f'x={sol_dict[x]}')\n",
    "print(f'y={sol_dict[y]}')"
   ]
  },
  {
   "cell_type": "code",
   "execution_count": 41,
   "metadata": {},
   "outputs": [
    {
     "name": "stdout",
     "output_type": "stream",
     "text": [
      "[0. 0. 0.]\n",
      "Rank of the given Matrix A is:  3\n"
     ]
    }
   ],
   "source": [
    "### 4. ---------------------------------------\n",
    "A = np.array([[0,1,5],[1,2,-1],[5,8,0]])\n",
    "b = np.array([0,0,0])\n",
    "x = la.inv(A) @b\n",
    "\n",
    "print(x)\n",
    "\n",
    "# Find the rank(A):\n",
    "rank = np.linalg.matrix_rank(A)\n",
    "print(\"Rank of the given Matrix A is: \", rank)"
   ]
  },
  {
   "cell_type": "code",
   "execution_count": 10,
   "metadata": {},
   "outputs": [
    {
     "name": "stdout",
     "output_type": "stream",
     "text": [
      "AB is :\n",
      " [[-1  0]\n",
      " [ 7 -6]\n",
      " [ 0 -1]]\n"
     ]
    }
   ],
   "source": [
    "### 5. ---------------------------------------\n",
    "A = np.array([[1,2],[5,4],[2,3]])\n",
    "B = np.array([[3,-2],[-2,1]])\n",
    "x1 = A @ B\n",
    "print(\"AB is :\\ \",x1)"
   ]
  },
  {
   "cell_type": "code",
   "execution_count": 57,
   "metadata": {},
   "outputs": [
    {
     "name": "stdout",
     "output_type": "stream",
     "text": [
      "Check if AB =BA: \n",
      "[[23 15]\n",
      " [-9 20]]\n",
      "[[23 15]\n",
      " [-9 20]]\n"
     ]
    }
   ],
   "source": [
    "### 6. ------------------------------------------\n",
    "# Let k =5\n",
    "A = np.array([[2,5],[-3,1]])\n",
    "B = np.array([[4,-5],[3,5]])\n",
    "print(\"Check if AB =BA: \")\n",
    "print(A@B)\n",
    "print(B@A)"
   ]
  },
  {
   "cell_type": "code",
   "execution_count": 39,
   "metadata": {},
   "outputs": [
    {
     "name": "stdout",
     "output_type": "stream",
     "text": [
      "Determinant of given matrix A B and C:  36.0 19.999999999999996 0.0\n",
      "So the matrix A and matrix B are invertible and matrix C is not invertible.\n"
     ]
    }
   ],
   "source": [
    "### 7. ------------------------------------------\n",
    "A = np.array([[3,-9],[2,6]])\n",
    "B = np.array([[4,-9],[0,5]])\n",
    "C = np.array([[6,-9],[-4,6]])\n",
    "detA = np.linalg.det(A)\n",
    "detB = np.linalg.det(B)\n",
    "detC = np.linalg.det(C)\n",
    "print(\"Determinant of given matrix A B and C: \",detA, detB, detC)\n",
    "print(\"So the matrix A and matrix B are invertible and matrix C is not invertible.\")"
   ]
  },
  {
   "cell_type": "code",
   "execution_count": 47,
   "metadata": {},
   "outputs": [
    {
     "name": "stdout",
     "output_type": "stream",
     "text": [
      "The inverse of the matrix A doesn't exist.\n"
     ]
    }
   ],
   "source": [
    "### 8. ------------------------------------------\n",
    "A = np.array([[1,-2,-1],[-1,5,6],[5,-4,5]])\n",
    "detA = np.linalg.det(A)\n",
    "if detA == 0.0:\n",
    "    print(\"The inverse of the matrix A doesn't exist.\")\n",
    "else:\n",
    "    X = np.linalg.inv(A)\n",
    "    print('The inverse of the matrix A is \\n ',A)"
   ]
  },
  {
   "cell_type": "code",
   "execution_count": null,
   "metadata": {},
   "outputs": [],
   "source": []
  }
 ],
 "metadata": {
  "kernelspec": {
   "display_name": "Python 3",
   "language": "python",
   "name": "python3"
  },
  "language_info": {
   "codemirror_mode": {
    "name": "ipython",
    "version": 3
   },
   "file_extension": ".py",
   "mimetype": "text/x-python",
   "name": "python",
   "nbconvert_exporter": "python",
   "pygments_lexer": "ipython3",
   "version": "3.8.8"
  }
 },
 "nbformat": 4,
 "nbformat_minor": 4
}
